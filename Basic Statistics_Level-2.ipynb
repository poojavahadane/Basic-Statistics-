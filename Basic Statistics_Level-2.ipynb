{
 "cells": [
  {
   "cell_type": "code",
   "execution_count": 3,
   "id": "80a23618",
   "metadata": {},
   "outputs": [],
   "source": [
    "import numpy as np\n",
    "import pandas as pd\n",
    "import matplotlib.pyplot as plt\n",
    "import seaborn as sns\n",
    "import statistics\n",
    "import scipy.stats as st"
   ]
  },
  {
   "cell_type": "markdown",
   "id": "4e51cb9e",
   "metadata": {},
   "source": [
    "# Set+1"
   ]
  },
  {
   "cell_type": "code",
   "execution_count": 4,
   "id": "e887a424",
   "metadata": {},
   "outputs": [],
   "source": [
    "x=[\"Allied Signal\",\"Bankers Trust\",\"General Mills\",\"ITT Industries\",\"J.P.Morgan_&_Co.\",\"Lehman Brothers\",\"Marriott\",\"MCI\",\"Merrill Lynch\",\"Microsoft\",\"Morgan Stanley\",\"Sun Microsystems\",\"Travelers\",\"US Airways\",\"Warner-Lambert\"]\n",
    "y=[24.23,25.53,25.41,24.14,29.62,28.25,25.81,24.39,40.26,32.95,91.36,25.99,39.42,26.71,35.00]"
   ]
  },
  {
   "cell_type": "code",
   "execution_count": 5,
   "id": "68c13fcf",
   "metadata": {},
   "outputs": [
    {
     "data": {
      "text/plain": [
       "Text(0.5, 0, 'Measure X')"
      ]
     },
     "execution_count": 5,
     "metadata": {},
     "output_type": "execute_result"
    },
    {
     "data": {
      "image/png": "[encoded data removed]",
      "text/plain": [
       "<Figure size 432x288 with 1 Axes>"
      ]
     },
     "metadata": {
      "needs_background": "light"
     },
     "output_type": "display_data"
    }
   ],
   "source": [
    "plt.barh(x,y)\n",
    "plt.ylabel(\"Name of Company\")\n",
    "plt.xlabel(\"Measure X\")"
   ]
  },
  {
   "cell_type": "code",
   "execution_count": 6,
   "id": "db5b8e51",
   "metadata": {},
   "outputs": [
    {
     "data": {
      "text/plain": [
       "33.27133333333333"
      ]
     },
     "execution_count": 6,
     "metadata": {},
     "output_type": "execute_result"
    }
   ],
   "source": [
    "np.mean(y)"
   ]
  },
  {
   "cell_type": "code",
   "execution_count": 7,
   "id": "cf5332ed",
   "metadata": {},
   "outputs": [
    {
     "data": {
      "text/plain": [
       "16.945400921222028"
      ]
     },
     "execution_count": 7,
     "metadata": {},
     "output_type": "execute_result"
    }
   ],
   "source": [
    "statistics.stdev(y)"
   ]
  },
  {
   "cell_type": "code",
   "execution_count": 8,
   "id": "7e0ae02f",
   "metadata": {},
   "outputs": [
    {
     "data": {
      "text/plain": [
       "287.1466123809524"
      ]
     },
     "execution_count": 8,
     "metadata": {},
     "output_type": "execute_result"
    }
   ],
   "source": [
    "statistics.variance(y)"
   ]
  },
  {
   "cell_type": "code",
   "execution_count": 9,
   "id": "4f7c1e70",
   "metadata": {},
   "outputs": [
    {
     "data": {
      "text/plain": [
       "{'whiskers': [<matplotlib.lines.Line2D at 0x2101568be80>,\n",
       "  <matplotlib.lines.Line2D at 0x210156a6190>],\n",
       " 'caps': [<matplotlib.lines.Line2D at 0x210156a6520>,\n",
       "  <matplotlib.lines.Line2D at 0x210156a6730>],\n",
       " 'boxes': [<matplotlib.lines.Line2D at 0x2101568bbb0>],\n",
       " 'medians': [<matplotlib.lines.Line2D at 0x210156a6a00>],\n",
       " 'fliers': [<matplotlib.lines.Line2D at 0x210156a6cd0>],\n",
       " 'means': []}"
      ]
     },
     "execution_count": 9,
     "metadata": {},
     "output_type": "execute_result"
    },
    {
     "data": {
      "image/png": "[encoded data removed]",
      "text/plain": [
       "<Figure size 432x288 with 1 Axes>"
      ]
     },
     "metadata": {
      "needs_background": "light"
     },
     "output_type": "display_data"
    }
   ],
   "source": [
    "plt.boxplot(y)"
   ]
  },
  {
   "cell_type": "markdown",
   "id": "f50b7810",
   "metadata": {},
   "source": [
    "# Set+2"
   ]
  },
  {
   "cell_type": "code",
   "execution_count": null,
   "id": "030a35a5",
   "metadata": {},
   "outputs": [],
   "source": []
  }
 ],
 "metadata": {
  "kernelspec": {
   "display_name": "Python 3 (ipykernel)",
   "language": "python",
   "name": "python3"
  },
  "language_info": {
   "codemirror_mode": {
    "name": "ipython",
    "version": 3
   },
   "file_extension": ".py",
   "mimetype": "text/x-python",
   "name": "python",
   "nbconvert_exporter": "python",
   "pygments_lexer": "ipython3",
   "version": "3.9.12"
  }
 },
 "nbformat": 4,
 "nbformat_minor": 5
}
